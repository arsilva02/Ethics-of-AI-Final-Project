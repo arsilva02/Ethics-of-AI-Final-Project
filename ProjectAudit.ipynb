{
 "cells": [
  {
   "cell_type": "markdown",
   "metadata": {},
   "source": [
    "Ethics of AI Final Project"
   ]
  },
  {
   "cell_type": "code",
   "execution_count": 1,
   "metadata": {},
   "outputs": [],
   "source": [
    "# import libraries\n",
    "import pandas as pd\n",
    "from sklearn.model_selection import train_test_split"
   ]
  },
  {
   "cell_type": "code",
   "execution_count": 2,
   "metadata": {},
   "outputs": [
    {
     "name": "stderr",
     "output_type": "stream",
     "text": [
      "C:\\Users\\arian\\AppData\\Local\\Temp\\ipykernel_13804\\2360765946.py:2: DtypeWarning: Columns (3,10,11,15,16,17,18,19,39,40,41,42,43,44,51,52,53,54,55,73,74,75,76,77,78,79,80,81,82,83,84,85,86,87,88,89,107,109) have mixed types. Specify dtype option on import or set low_memory=False.\n",
      "  df = pd.read_csv('speeddating.csv')\n"
     ]
    }
   ],
   "source": [
    "# fetch dataset\n",
    "df = pd.read_csv('speeddating.csv')\n",
    "# Our x includes all features\n",
    "X = df.drop(columns='match')\n",
    "# and our y includes the match col\n",
    "y = df.match\n"
   ]
  },
  {
   "cell_type": "code",
   "execution_count": 3,
   "metadata": {},
   "outputs": [],
   "source": [
    "x_train, x_test, y_train, y_test = train_test_split(X, y, test_size = .33,random_state=0)"
   ]
  },
  {
   "cell_type": "code",
   "execution_count": 5,
   "metadata": {},
   "outputs": [
    {
     "name": "stderr",
     "output_type": "stream",
     "text": [
      "c:\\Users\\arian\\anaconda3\\Lib\\site-packages\\datasets\\load.py:1461: FutureWarning: The repository for mstz/speeddating contains custom code which must be executed to correctly load the dataset. You can inspect the repository content at https://hf.co/datasets/mstz/speeddating\n",
      "You can avoid this message in future by passing the argument `trust_remote_code=True`.\n",
      "Passing `trust_remote_code=True` will be mandatory to load this dataset from the next major release of `datasets`.\n",
      "  warnings.warn(\n"
     ]
    },
    {
     "data": {
      "application/vnd.jupyter.widget-view+json": {
       "model_id": "c72663dd5d7d49e5808d286a88d3cf70",
       "version_major": 2,
       "version_minor": 0
      },
      "text/plain": [
       "Downloading builder script:   0%|          | 0.00/15.7k [00:00<?, ?B/s]"
      ]
     },
     "metadata": {},
     "output_type": "display_data"
    },
    {
     "data": {
      "application/vnd.jupyter.widget-view+json": {
       "model_id": "f79f5c352eec4ba889a131601fc3b6d8",
       "version_major": 2,
       "version_minor": 0
      },
      "text/plain": [
       "Downloading readme:   0%|          | 0.00/5.16k [00:00<?, ?B/s]"
      ]
     },
     "metadata": {},
     "output_type": "display_data"
    },
    {
     "data": {
      "application/vnd.jupyter.widget-view+json": {
       "model_id": "04eca0cd8cc445a18b910e547ab7dd1c",
       "version_major": 2,
       "version_minor": 0
      },
      "text/plain": [
       "Downloading data:   0%|          | 0.00/4.99M [00:00<?, ?B/s]"
      ]
     },
     "metadata": {},
     "output_type": "display_data"
    },
    {
     "data": {
      "application/vnd.jupyter.widget-view+json": {
       "model_id": "94d91ccb124443208053bc295b2caba2",
       "version_major": 2,
       "version_minor": 0
      },
      "text/plain": [
       "Generating train split: 0 examples [00:00, ? examples/s]"
      ]
     },
     "metadata": {},
     "output_type": "display_data"
    },
    {
     "name": "stderr",
     "output_type": "stream",
     "text": [
      "c:\\Users\\arian\\anaconda3\\Lib\\site-packages\\datasets\\download\\streaming_download_manager.py:784: DtypeWarning: Columns (3,10,11,15,16,17,18,19,39,40,41,42,43,44,51,52,53,54,55,73,74,75,76,77,78,79,80,81,82,83,84,85,86,87,88,89,107,109) have mixed types. Specify dtype option on import or set low_memory=False.\n",
      "  return pd.read_csv(xopen(filepath_or_buffer, \"rb\", download_config=download_config), **kwargs)\n"
     ]
    }
   ],
   "source": [
    "from datasets import load_dataset\n",
    "dataset = load_dataset(\"mstz/speeddating\")[\"train\"]\n"
   ]
  },
  {
   "cell_type": "code",
   "execution_count": 6,
   "metadata": {},
   "outputs": [
    {
     "data": {
      "text/plain": [
       "Dataset({\n",
       "    features: ['is_dater_male', 'dater_age', 'dated_age', 'age_difference', 'dater_race', 'dated_race', 'are_same_race', 'same_race_importance_for_dater', 'same_religion_importance_for_dater', 'attractiveness_importance_for_dated', 'sincerity_importance_for_dated', 'intelligence_importance_for_dated', 'humor_importance_for_dated', 'ambition_importance_for_dated', 'shared_interests_importance_for_dated', 'attractiveness_score_of_dater_from_dated', 'sincerity_score_of_dater_from_dated', 'intelligence_score_of_dater_from_dated', 'humor_score_of_dater_from_dated', 'ambition_score_of_dater_from_dated', 'shared_interests_score_of_dater_from_dated', 'attractiveness_importance_for_dater', 'sincerity_importance_for_dater', 'intelligence_importance_for_dater', 'humor_importance_for_dater', 'ambition_importance_for_dater', 'shared_interests_importance_for_dater', 'self_reported_attractiveness_of_dater', 'self_reported_sincerity_of_dater', 'self_reported_intelligence_of_dater', 'self_reported_humor_of_dater', 'self_reported_ambition_of_dater', 'reported_attractiveness_of_dated_from_dater', 'reported_sincerity_of_dated_from_dater', 'reported_intelligence_of_dated_from_dater', 'reported_humor_of_dated_from_dater', 'reported_ambition_of_dated_from_dater', 'reported_shared_interests_of_dated_from_dater', 'dater_interest_in_sports', 'dater_interest_in_tvsports', 'dater_interest_in_exercise', 'dater_interest_in_dining', 'dater_interest_in_museums', 'dater_interest_in_art', 'dater_interest_in_hiking', 'dater_interest_in_gaming', 'dater_interest_in_clubbing', 'dater_interest_in_reading', 'dater_interest_in_tv', 'dater_interest_in_theater', 'dater_interest_in_movies', 'dater_interest_in_concerts', 'dater_interest_in_music', 'dater_interest_in_shopping', 'dater_interest_in_yoga', 'interests_correlation', 'expected_satisfaction_of_dater', 'expected_number_of_likes_of_dater_from_20_people', 'expected_number_of_dates_for_dater', 'dater_liked_dated', 'probability_dated_wants_to_date', 'already_met_before', 'dater_wants_to_date', 'dated_wants_to_date', 'is_match'],\n",
       "    num_rows: 1048\n",
       "})"
      ]
     },
     "execution_count": 6,
     "metadata": {},
     "output_type": "execute_result"
    }
   ],
   "source": [
    "dataset"
   ]
  }
 ],
 "metadata": {
  "kernelspec": {
   "display_name": "base",
   "language": "python",
   "name": "python3"
  },
  "language_info": {
   "codemirror_mode": {
    "name": "ipython",
    "version": 3
   },
   "file_extension": ".py",
   "mimetype": "text/x-python",
   "name": "python",
   "nbconvert_exporter": "python",
   "pygments_lexer": "ipython3",
   "version": "3.11.4"
  }
 },
 "nbformat": 4,
 "nbformat_minor": 2
}
