{
 "cells": [
  {
   "cell_type": "markdown",
   "metadata": {},
   "source": [
    "Ethics of AI Final Project"
   ]
  },
  {
   "cell_type": "code",
   "execution_count": 1,
   "metadata": {},
   "outputs": [],
   "source": [
    "# import libraries\n",
    "import pandas as pd\n",
    "from sklearn.model_selection import train_test_split, cross_val_score\n",
    "from datasets import load_dataset\n",
    "from sklearn.ensemble import RandomForestClassifier\n",
    "from sklearn.tree import  DecisionTreeClassifier ,plot_tree, export_text# Decision tree algorithm and plotting functions for the Decision tree\n",
    "from matplotlib import pyplot as plt # plotting/graphing\n"
   ]
  },
  {
   "cell_type": "code",
   "execution_count": 4,
   "metadata": {},
   "outputs": [],
   "source": [
    "# fetch dataset and apply processing file\n",
    "dataset = load_dataset(\"mstz/speeddating\",trust_remote_code=True)[\"train\"]\n",
    "\n",
    "# convert to df\n",
    "df = pd.DataFrame(dataset)\n",
    "\n",
    "\n",
    "# split into x and y sets\n",
    "X = df.drop(columns=['is_match','dater_wants_to_date','dated_wants_to_date']) # is match is our target variable, which is determined from the last 2 so we need to drop all\n",
    "X = pd.get_dummies(X) #get dummies for X\n",
    "y = df.is_match\n",
    "\n",
    "\n"
   ]
  },
  {
   "cell_type": "code",
   "execution_count": 5,
   "metadata": {},
   "outputs": [],
   "source": [
    "# split into training and tests, ALL RANDOM STATES SET TO 0\n",
    "x_train, x_test, y_train, y_test = train_test_split(X, y, test_size = .33,random_state=0)"
   ]
  },
  {
   "cell_type": "code",
   "execution_count": 8,
   "metadata": {},
   "outputs": [
    {
     "data": {
      "text/plain": [
       "83.31332309553726"
      ]
     },
     "execution_count": 8,
     "metadata": {},
     "output_type": "execute_result"
    }
   ],
   "source": [
    "# Different models\n",
    "# Random Forest\n",
    "\n",
    "#Set estimators as 100, random state 0, samples of at least 2 in each leaf\n",
    "clf = RandomForestClassifier(n_estimators = 125, random_state=0, min_samples_leaf=2)\n",
    "clf.fit(x_train, y_train) # fit model\n",
    "\n",
    "# get the roc auc and pring\n",
    "cross_val_accuracy_roc_auc = (cross_val_score(clf, x_train, y_train, cv = 10, scoring = 'roc_auc').mean()*100)\n",
    "\n",
    "cross_val_accuracy_roc_auc"
   ]
  },
  {
   "cell_type": "code",
   "execution_count": null,
   "metadata": {},
   "outputs": [],
   "source": []
  }
 ],
 "metadata": {
  "kernelspec": {
   "display_name": "base",
   "language": "python",
   "name": "python3"
  },
  "language_info": {
   "codemirror_mode": {
    "name": "ipython",
    "version": 3
   },
   "file_extension": ".py",
   "mimetype": "text/x-python",
   "name": "python",
   "nbconvert_exporter": "python",
   "pygments_lexer": "ipython3",
   "version": "3.11.4"
  }
 },
 "nbformat": 4,
 "nbformat_minor": 2
}
