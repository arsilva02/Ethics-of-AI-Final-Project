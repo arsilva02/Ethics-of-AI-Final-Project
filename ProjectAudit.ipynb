{
 "cells": [
  {
   "cell_type": "markdown",
   "metadata": {},
   "source": [
    "Ethics of AI Final Project"
   ]
  },
  {
   "cell_type": "code",
   "execution_count": 9,
   "metadata": {},
   "outputs": [],
   "source": [
    "# import libraries\n",
    "import pandas as pd\n",
    "from sklearn.model_selection import train_test_split, cross_val_score\n",
    "from datasets import load_dataset\n",
    "from sklearn.ensemble import RandomForestClassifier\n",
    "from sklearn.tree import  DecisionTreeClassifier ,plot_tree, export_text# Decision tree algorithm and plotting functions for the Decision tree\n",
    "from matplotlib import pyplot as plt # plotting/graphing\n"
   ]
  },
  {
   "cell_type": "code",
   "execution_count": 12,
   "metadata": {},
   "outputs": [
    {
     "data": {
      "text/plain": [
       "Index(['is_dater_male', 'dater_age', 'dated_age', 'age_difference',\n",
       "       'are_same_race', 'same_race_importance_for_dater',\n",
       "       'same_religion_importance_for_dater',\n",
       "       'attractiveness_importance_for_dated', 'sincerity_importance_for_dated',\n",
       "       'intelligence_importance_for_dated', 'humor_importance_for_dated',\n",
       "       'ambition_importance_for_dated',\n",
       "       'shared_interests_importance_for_dated',\n",
       "       'attractiveness_score_of_dater_from_dated',\n",
       "       'sincerity_score_of_dater_from_dated',\n",
       "       'intelligence_score_of_dater_from_dated',\n",
       "       'humor_score_of_dater_from_dated', 'ambition_score_of_dater_from_dated',\n",
       "       'shared_interests_score_of_dater_from_dated',\n",
       "       'attractiveness_importance_for_dater', 'sincerity_importance_for_dater',\n",
       "       'intelligence_importance_for_dater', 'humor_importance_for_dater',\n",
       "       'ambition_importance_for_dater',\n",
       "       'shared_interests_importance_for_dater',\n",
       "       'self_reported_attractiveness_of_dater',\n",
       "       'self_reported_sincerity_of_dater',\n",
       "       'self_reported_intelligence_of_dater', 'self_reported_humor_of_dater',\n",
       "       'self_reported_ambition_of_dater',\n",
       "       'reported_attractiveness_of_dated_from_dater',\n",
       "       'reported_sincerity_of_dated_from_dater',\n",
       "       'reported_intelligence_of_dated_from_dater',\n",
       "       'reported_humor_of_dated_from_dater',\n",
       "       'reported_ambition_of_dated_from_dater',\n",
       "       'reported_shared_interests_of_dated_from_dater',\n",
       "       'dater_interest_in_sports', 'dater_interest_in_tvsports',\n",
       "       'dater_interest_in_exercise', 'dater_interest_in_dining',\n",
       "       'dater_interest_in_museums', 'dater_interest_in_art',\n",
       "       'dater_interest_in_hiking', 'dater_interest_in_gaming',\n",
       "       'dater_interest_in_clubbing', 'dater_interest_in_reading',\n",
       "       'dater_interest_in_tv', 'dater_interest_in_theater',\n",
       "       'dater_interest_in_movies', 'dater_interest_in_concerts',\n",
       "       'dater_interest_in_music', 'dater_interest_in_shopping',\n",
       "       'dater_interest_in_yoga', 'interests_correlation',\n",
       "       'expected_satisfaction_of_dater',\n",
       "       'expected_number_of_likes_of_dater_from_20_people',\n",
       "       'expected_number_of_dates_for_dater', 'dater_liked_dated',\n",
       "       'probability_dated_wants_to_date', 'already_met_before',\n",
       "       'dater_race_'Asian/Pacific Islander/Asian-American'',\n",
       "       'dater_race_'Black/African American'',\n",
       "       'dater_race_'Latino/Hispanic American'', 'dater_race_caucasian',\n",
       "       'dater_race_other',\n",
       "       'dated_race_'Asian/Pacific Islander/Asian-American'',\n",
       "       'dated_race_'Black/African American'',\n",
       "       'dated_race_'Latino/Hispanic American'', 'dated_race_caucasian',\n",
       "       'dated_race_other'],\n",
       "      dtype='object')"
      ]
     },
     "execution_count": 12,
     "metadata": {},
     "output_type": "execute_result"
    }
   ],
   "source": [
    "# fetch dataset and apply processing file\n",
    "dataset = load_dataset(\"mstz/speeddating\",trust_remote_code=True)[\"train\"]\n",
    "\n",
    "# convert to df\n",
    "df = pd.DataFrame(dataset)\n",
    "\n",
    "\n",
    "# split into x and y sets\n",
    "X = df.drop(columns=['is_match','dater_wants_to_date','dated_wants_to_date']) # is match is our target variable, which is determined from the last 2 so we need to drop all\n",
    "X = pd.get_dummies(X) #get dummies for X\n",
    "y = df.is_match\n",
    "\n",
    "X.columns\n"
   ]
  },
  {
   "cell_type": "code",
   "execution_count": 5,
   "metadata": {},
   "outputs": [],
   "source": [
    "# split into training and tests, ALL RANDOM STATES SET TO 0\n",
    "x_train, x_test, y_train, y_test = train_test_split(X, y, test_size = .33,random_state=0)"
   ]
  },
  {
   "cell_type": "code",
   "execution_count": 8,
   "metadata": {},
   "outputs": [
    {
     "data": {
      "text/plain": [
       "83.31332309553726"
      ]
     },
     "execution_count": 8,
     "metadata": {},
     "output_type": "execute_result"
    }
   ],
   "source": [
    "# Different models\n",
    "# Random Forest\n",
    "\n",
    "#Set estimators as 100, random state 0, samples of at least 2 in each leaf\n",
    "clf = RandomForestClassifier(n_estimators = 125, random_state=0, min_samples_leaf=2)\n",
    "clf.fit(x_train, y_train) # fit model\n",
    "\n",
    "# get the roc auc and pring\n",
    "cross_val_accuracy_roc_auc = (cross_val_score(clf, x_train, y_train, cv = 10, scoring = 'roc_auc').mean()*100)\n",
    "\n",
    "cross_val_accuracy_roc_auc"
   ]
  },
  {
   "cell_type": "code",
   "execution_count": null,
   "metadata": {},
   "outputs": [],
   "source": []
  },
  {
   "cell_type": "markdown",
   "metadata": {},
   "source": [
    "# 1 Pre Processing\n",
    "Our dataset has a variety of features. We will want to simplify our dataset to have a few key features:\n",
    "Age, age difference for the pairing (Sensitive)\n",
    "Race, same race for the pairing (Sensitive)\n",
    "expected_number_of_likes_of_dater_from_20_people (non sensitive)\n",
    "Already met before (non sensitive)\n"
   ]
  },
  {
   "cell_type": "code",
   "execution_count": 27,
   "metadata": {},
   "outputs": [
    {
     "name": "stdout",
     "output_type": "stream",
     "text": [
      "Matches where pairings are the same race:  437\n",
      "Matches where pairings are not the same race:  611\n"
     ]
    }
   ],
   "source": [
    "features = ['dater_age','dated_age','age_difference','dater_race','dated_race','are_same_race','expected_number_of_likes_of_dater_from_20_people','already_met_before']\n",
    "\n",
    "X = df[features].copy()\n",
    "y = df.is_match.copy()\n",
    "\n",
    "# We will want to see where the race is the same or not\n",
    "\n",
    "print('Matches where pairings are the same race: ',len(X[X['are_same_race']]))\n",
    "print('Matches where pairings are not the same race: ',len(X[-X['are_same_race']]))"
   ]
  },
  {
   "cell_type": "code",
   "execution_count": 30,
   "metadata": {},
   "outputs": [
    {
     "name": "stdout",
     "output_type": "stream",
     "text": [
      "Matches where pairings are the same race and match:  84\n",
      "Matches where pairings are not the same race and match:  102\n"
     ]
    }
   ],
   "source": [
    "print('Matches where pairings are the same race and match: ',len(X[X['are_same_race'] & y==1]))\n",
    "print('Matches where pairings are not the same race and match: ',len(X[-X['are_same_race'] & y==1]))"
   ]
  },
  {
   "cell_type": "markdown",
   "metadata": {},
   "source": [
    "# Split data and Examine Match Rates by Group"
   ]
  },
  {
   "cell_type": "code",
   "execution_count": 39,
   "metadata": {},
   "outputs": [
    {
     "name": "stdout",
     "output_type": "stream",
     "text": [
      "% Same Race in train:  0.4092769440654843\n",
      "% Not Same Race in train:  0.5907230559345157\n",
      "%  Same Race in test:  0.43492063492063493\n",
      "% Not Same Race test:  0.5650793650793651\n",
      "Difference in Match Rate between Groups in Training Data:  0.029622786759045422\n"
     ]
    }
   ],
   "source": [
    "X_train, X_test, y_train, y_test = train_test_split(X, y, test_size = .3, random_state= 372)\n",
    "\n",
    "print('% Same Race in train: ', len(X_train[X_train['are_same_race']])/len(X_train))\n",
    "print('% Not Same Race in train: ', len(X_train[-X_train['are_same_race']])/len(X_train))\n",
    "\n",
    "print('%  Same Race in test: ', len(X_test[X_test['are_same_race']])/len(X_test))\n",
    "print('% Not Same Race test: ', len(X_test[-X_test['are_same_race']])/len(X_test))\n",
    "\n",
    "#make a df where the couple is a match\n",
    "train_is_match = X_train.join(y_train)\n",
    "train_is_match = train_is_match[y_train==1]\n",
    "\n",
    "print('Difference in Match Rate between Groups in Training Data: ', \n",
    "    ( (len(train_is_match[train_is_match['are_same_race']]) / len(X_train[X_train['are_same_race']]))\n",
    "     -\n",
    "    ( (len(train_is_match[-train_is_match['are_same_race']])) / len(X_train[-X_train['are_same_race']])))\n",
    "\n",
    ")"
   ]
  }
 ],
 "metadata": {
  "kernelspec": {
   "display_name": "base",
   "language": "python",
   "name": "python3"
  },
  "language_info": {
   "codemirror_mode": {
    "name": "ipython",
    "version": 3
   },
   "file_extension": ".py",
   "mimetype": "text/x-python",
   "name": "python",
   "nbconvert_exporter": "python",
   "pygments_lexer": "ipython3",
   "version": "3.11.4"
  }
 },
 "nbformat": 4,
 "nbformat_minor": 2
}
