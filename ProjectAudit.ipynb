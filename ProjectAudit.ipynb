{
 "cells": [
  {
   "cell_type": "markdown",
   "metadata": {},
   "source": [
    "Ethics of AI Final Project"
   ]
  },
  {
   "cell_type": "code",
   "execution_count": 1,
   "metadata": {},
   "outputs": [],
   "source": [
    "# import libraries\n",
    "import pandas as pd\n",
    "from sklearn.model_selection import train_test_split\n",
    "from datasets import load_dataset\n"
   ]
  },
  {
   "cell_type": "code",
   "execution_count": 32,
   "metadata": {},
   "outputs": [],
   "source": [
    "# fetch dataset and apply processing file\n",
    "dataset = load_dataset(\"mstz/speeddating\",trust_remote_code=True)[\"train\"]\n",
    "\n",
    "# convert to df\n",
    "df = pd.DataFrame(dataset)\n",
    "\n",
    "\n",
    "# split into x and y sets\n",
    "X = df.drop(columns='is_match')\n",
    "y = df.is_match"
   ]
  },
  {
   "cell_type": "code",
   "execution_count": 33,
   "metadata": {},
   "outputs": [],
   "source": [
    "# split into training and tests\n",
    "x_train, x_test, y_train, y_test = train_test_split(X, y, test_size = .33,random_state=0)"
   ]
  },
  {
   "cell_type": "code",
   "execution_count": 35,
   "metadata": {},
   "outputs": [
    {
     "data": {
      "text/plain": [
       "496     0\n",
       "258     0\n",
       "603     0\n",
       "955     1\n",
       "304     0\n",
       "       ..\n",
       "1033    0\n",
       "763     0\n",
       "835     1\n",
       "559     1\n",
       "684     0\n",
       "Name: is_match, Length: 702, dtype: int64"
      ]
     },
     "execution_count": 35,
     "metadata": {},
     "output_type": "execute_result"
    }
   ],
   "source": []
  },
  {
   "cell_type": "code",
   "execution_count": null,
   "metadata": {},
   "outputs": [],
   "source": []
  }
 ],
 "metadata": {
  "kernelspec": {
   "display_name": "base",
   "language": "python",
   "name": "python3"
  },
  "language_info": {
   "codemirror_mode": {
    "name": "ipython",
    "version": 3
   },
   "file_extension": ".py",
   "mimetype": "text/x-python",
   "name": "python",
   "nbconvert_exporter": "python",
   "pygments_lexer": "ipython3",
   "version": "3.11.4"
  }
 },
 "nbformat": 4,
 "nbformat_minor": 2
}
