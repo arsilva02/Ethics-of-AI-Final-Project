{
 "cells": [
  {
   "cell_type": "markdown",
   "metadata": {},
   "source": [
    "Ethics of AI Final Project"
   ]
  },
  {
   "cell_type": "code",
   "execution_count": 34,
   "metadata": {},
   "outputs": [],
   "source": [
    "# import libraries\n",
    "import pandas as pd\n",
    "from sklearn.model_selection import train_test_split, cross_val_score\n",
    "from datasets import load_dataset\n",
    "from sklearn.ensemble import RandomForestClassifier\n",
    "from sklearn.tree import  DecisionTreeClassifier ,plot_tree, export_text# Decision tree algorithm and plotting functions for the Decision tree\n",
    "from matplotlib import pyplot as plt # plotting/graphing\n"
   ]
  },
  {
   "cell_type": "code",
   "execution_count": 37,
   "metadata": {},
   "outputs": [],
   "source": [
    "# fetch dataset and apply processing file\n",
    "dataset = load_dataset(\"mstz/speeddating\",trust_remote_code=True)[\"train\"]\n",
    "\n",
    "# convert to df\n",
    "df = pd.DataFrame(dataset)\n",
    "\n",
    "\n",
    "# split into x and y sets\n",
    "X = df.drop(columns=['is_match','dater_wants_to_date','dated_wants_to_date'])\n",
    "X = pd.get_dummies(X)\n",
    "y = df.is_match\n",
    "\n"
   ]
  },
  {
   "cell_type": "code",
   "execution_count": 38,
   "metadata": {},
   "outputs": [],
   "source": [
    "# split into training and tests, ALL RANDOM STATES SET TO 0\n",
    "x_train, x_test, y_train, y_test = train_test_split(X, y, test_size = .33,random_state=0)"
   ]
  },
  {
   "cell_type": "code",
   "execution_count": 75,
   "metadata": {},
   "outputs": [
    {
     "data": {
      "text/plain": [
       "83.31"
      ]
     },
     "execution_count": 75,
     "metadata": {},
     "output_type": "execute_result"
    }
   ],
   "source": [
    "# Different models\n",
    "# Random Forest\n",
    "\n",
    "#Set estimators as 100, random state 0, samples of at least 2 in each leaf\n",
    "clf = RandomForestClassifier(n_estimators = 125, random_state=0, min_samples_leaf=2)\n",
    "clf.fit(x_train, y_train) # fit model\n",
    "\n",
    "# get the roc auc and pring\n",
    "cross_val_accuracy_roc_auc = round(cross_val_score(clf, x_train, y_train, cv = 10, scoring = 'roc_auc').mean()*100,2)\n",
    "\n",
    "cross_val_accuracy_roc_auc"
   ]
  },
  {
   "cell_type": "code",
   "execution_count": 71,
   "metadata": {},
   "outputs": [
    {
     "data": {
      "text/plain": [
       "73.0374842942901"
      ]
     },
     "execution_count": 71,
     "metadata": {},
     "output_type": "execute_result"
    }
   ],
   "source": [
    "# Different models\n",
    "# Decision Tree\n",
    "clf = DecisionTreeClassifier(max_depth= 10, random_state=0, min_samples_leaf=5) # Set a max depth of 10, rnadom state of 0, min samples of 5 in each leaf\n",
    "clf.fit(x_train, y_train) # fit model\n",
    "\n",
    "#roc auc\n",
    "cross_val_accuracy_roc_auc = (cross_val_score(clf, x_train, y_train, cv=10, scoring = 'roc_auc').mean()*100)\n",
    "cross_val_accuracy_roc_auc"
   ]
  },
  {
   "cell_type": "code",
   "execution_count": null,
   "metadata": {},
   "outputs": [],
   "source": []
  }
 ],
 "metadata": {
  "kernelspec": {
   "display_name": "base",
   "language": "python",
   "name": "python3"
  },
  "language_info": {
   "codemirror_mode": {
    "name": "ipython",
    "version": 3
   },
   "file_extension": ".py",
   "mimetype": "text/x-python",
   "name": "python",
   "nbconvert_exporter": "python",
   "pygments_lexer": "ipython3",
   "version": "3.11.4"
  }
 },
 "nbformat": 4,
 "nbformat_minor": 2
}
